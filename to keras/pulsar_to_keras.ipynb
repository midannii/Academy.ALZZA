{
 "cells": [
  {
   "cell_type": "code",
   "execution_count": 1,
   "metadata": {},
   "outputs": [],
   "source": [
    "import tensorflow as tf\n",
    "from tensorflow import keras"
   ]
  },
  {
   "cell_type": "code",
   "execution_count": 2,
   "metadata": {},
   "outputs": [],
   "source": [
    "import numpy as np\n",
    "import pandas as pd"
   ]
  },
  {
   "cell_type": "code",
   "execution_count": 3,
   "metadata": {},
   "outputs": [],
   "source": [
    "RND_MEAN = 0\n",
    "RND_STD = 0.0030\n",
    "LEARNING_RATE = 0.001"
   ]
  },
  {
   "cell_type": "code",
   "execution_count": null,
   "metadata": {},
   "outputs": [],
   "source": []
  },
  {
   "cell_type": "code",
   "execution_count": 8,
   "metadata": {},
   "outputs": [],
   "source": [
    "def load_pulsar_dataset():\n",
    "    global dataset, answer, input_cnt, output_cnt\n",
    "    input_cnt, output_cnt = 8,1\n",
    "    dataset = pd.read_csv('pulsar_stars.csv')\n",
    "    answer = np.asarray(dataset['target_class'])\n",
    "    dataset = np.asarray(dataset)[:,:-1]"
   ]
  },
  {
   "cell_type": "code",
   "execution_count": 9,
   "metadata": {},
   "outputs": [
    {
     "data": {
      "text/plain": [
       "(17898, 8)"
      ]
     },
     "execution_count": 9,
     "metadata": {},
     "output_type": "execute_result"
    }
   ],
   "source": [
    "load_pulsar_dataset()\n",
    "dataset.shape"
   ]
  },
  {
   "cell_type": "code",
   "execution_count": 10,
   "metadata": {},
   "outputs": [],
   "source": [
    "def init_model(learning_rate):\n",
    "    from tensorflow.keras.models import Model\n",
    "    from tensorflow.keras import losses, optimizers\n",
    "    from tensorflow.keras.layers import Input, Dense\n",
    "    global model\n",
    "    inputs = Input(shape=(input_cnt,))\n",
    "    outputs = Dense(output_cnt, activation='sigmoid')(inputs)\n",
    "    model = Model(inputs=inputs, outputs=outputs)\n",
    "    model.compile(loss = 'binary_crossentropy', \n",
    "                optimizer = 'sgd', \n",
    "                  metrics = ['accuracy'])"
   ]
  },
  {
   "cell_type": "code",
   "execution_count": 11,
   "metadata": {},
   "outputs": [],
   "source": [
    "def train_and_test(epoch_count, mb_size):\n",
    "    model.fit(x = dataset, y = answer, batch_size = mb_size, epochs = epoch_count)\n",
    "    model.evaluate(x = dataset, y = answer, batch_size = mb_size)"
   ]
  },
  {
   "cell_type": "code",
   "execution_count": 12,
   "metadata": {},
   "outputs": [],
   "source": [
    "def pulsar_exec(epoch_count = 10, mb_size=10, learning_rate = LEARNING_RATE):\n",
    "    load_pulsar_dataset() # 자료 불러오기 \n",
    "    init_model(learning_rate) # 초기화 \n",
    "    train_and_test(epoch_count, mb_size) "
   ]
  },
  {
   "cell_type": "code",
   "execution_count": 13,
   "metadata": {},
   "outputs": [
    {
     "name": "stdout",
     "output_type": "stream",
     "text": [
      "WARNING:tensorflow:From /Users/a1/anaconda3/lib/python3.7/site-packages/tensorflow/python/ops/init_ops.py:1251: calling VarianceScaling.__init__ (from tensorflow.python.ops.init_ops) with dtype is deprecated and will be removed in a future version.\n",
      "Instructions for updating:\n",
      "Call initializer instance with the dtype argument instead of passing it to the constructor\n",
      "WARNING:tensorflow:From /Users/a1/anaconda3/lib/python3.7/site-packages/tensorflow/python/ops/nn_impl.py:180: add_dispatch_support.<locals>.wrapper (from tensorflow.python.ops.array_ops) is deprecated and will be removed in a future version.\n",
      "Instructions for updating:\n",
      "Use tf.where in 2.0, which has the same broadcast rule as np.where\n",
      "Epoch 1/10\n",
      "17898/17898 [==============================] - 7s 402us/sample - loss: 1.4278 - acc: 0.9497\n",
      "Epoch 2/10\n",
      "17898/17898 [==============================] - 5s 304us/sample - loss: 1.1963 - acc: 0.9550\n",
      "Epoch 3/10\n",
      "17898/17898 [==============================] - 6s 333us/sample - loss: 1.1423 - acc: 0.9582s - loss: 1.1379 - acc:\n",
      "Epoch 4/10\n",
      "17898/17898 [==============================] - 5s 305us/sample - loss: 1.2329 - acc: 0.9594\n",
      "Epoch 5/10\n",
      "17898/17898 [==============================] - 5s 272us/sample - loss: 1.1938 - acc: 0.9585\n",
      "Epoch 6/10\n",
      "17898/17898 [==============================] - 5s 278us/sample - loss: 1.2063 - acc: 0.9585\n",
      "Epoch 7/10\n",
      "17898/17898 [==============================] - 5s 295us/sample - loss: 1.1809 - acc: 0.9607\n",
      "Epoch 8/10\n",
      "17898/17898 [==============================] - 5s 299us/sample - loss: 1.1499 - acc: 0.9585\n",
      "Epoch 9/10\n",
      "17898/17898 [==============================] - 5s 272us/sample - loss: 1.1209 - acc: 0.9594\n",
      "Epoch 10/10\n",
      "17898/17898 [==============================] - 5s 299us/sample - loss: 1.2074 - acc: 0.9602\n",
      "17898/17898 [==============================] - 4s 219us/sample - loss: 0.7493 - acc: 0.9601\n"
     ]
    }
   ],
   "source": [
    "pulsar_exec()"
   ]
  },
  {
   "cell_type": "code",
   "execution_count": 197,
   "metadata": {
    "collapsed": true,
    "jupyter": {
     "outputs_hidden": true
    }
   },
   "outputs": [
    {
     "name": "stdout",
     "output_type": "stream",
     "text": [
      "Model: \"model_31\"\n",
      "_________________________________________________________________\n",
      "Layer (type)                 Output Shape              Param #   \n",
      "=================================================================\n",
      "input_34 (InputLayer)        [(None, 8)]               0         \n",
      "_________________________________________________________________\n",
      "dense_39 (Dense)             (None, 1)                 9         \n",
      "=================================================================\n",
      "Total params: 9\n",
      "Trainable params: 9\n",
      "Non-trainable params: 0\n",
      "_________________________________________________________________\n"
     ]
    }
   ],
   "source": [
    "model.summary()"
   ]
  },
  {
   "cell_type": "code",
   "execution_count": null,
   "metadata": {},
   "outputs": [],
   "source": []
  }
 ],
 "metadata": {
  "kernelspec": {
   "display_name": "Python 3",
   "language": "python",
   "name": "python3"
  },
  "language_info": {
   "codemirror_mode": {
    "name": "ipython",
    "version": 3
   },
   "file_extension": ".py",
   "mimetype": "text/x-python",
   "name": "python",
   "nbconvert_exporter": "python",
   "pygments_lexer": "ipython3",
   "version": "3.7.3"
  }
 },
 "nbformat": 4,
 "nbformat_minor": 4
}
