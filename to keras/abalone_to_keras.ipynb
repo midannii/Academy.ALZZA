{
 "cells": [
  {
   "cell_type": "code",
   "execution_count": 1,
   "metadata": {},
   "outputs": [],
   "source": [
    "import tensorflow as tf\n",
    "from tensorflow import keras"
   ]
  },
  {
   "cell_type": "code",
   "execution_count": 2,
   "metadata": {},
   "outputs": [],
   "source": [
    "import numpy as np\n",
    "import pandas as pd\n",
    "import csv\n",
    "import time\n",
    "np.random.seed(1234)\n",
    "#def randomize(): np.random.seed(time.time())"
   ]
  },
  {
   "cell_type": "code",
   "execution_count": 3,
   "metadata": {},
   "outputs": [],
   "source": [
    "input_cnt, output_cnt = 10,1"
   ]
  },
  {
   "cell_type": "code",
   "execution_count": 4,
   "metadata": {},
   "outputs": [],
   "source": [
    "RND_MEAN = 0\n",
    "RND_STD = 0.0030\n",
    "LEARNING_RATE = 0.001"
   ]
  },
  {
   "cell_type": "code",
   "execution_count": 59,
   "metadata": {},
   "outputs": [],
   "source": [
    "def load_abalone_dataset():\n",
    "    global dataset, answer\n",
    "    data = pd.read_csv('abalone.csv')\n",
    "    dataset = np.zeros([len(data), input_cnt + output_cnt]) # 0으로 채워진 table을 만들고, 전처리에 쓸 자료 채울 예정\n",
    "    # dataset = tf.data.Dataset.from_tensor_slices(dataset)\n",
    "    \n",
    "    # 성별을 숫자로 one-hot encoding\n",
    "    for i in data.index:\n",
    "        row = data.loc[i]\n",
    "        if row[0] == 'I':\n",
    "            dataset[i,0] =1\n",
    "        elif row[0] == 'M':\n",
    "            dataset[i,1] =1\n",
    "        elif row[0] == 'F':\n",
    "            dataset[i,2] =1\n",
    "        dataset[i, 3:] = np.asarray(row[1:]) # 성별이 0,1,2열을 차지하고, 3부터는 원래의 데이터로 채움 \n",
    "    dataset.astype('float')\n",
    "    # Rings    \n",
    "    answer = dataset[:, -1] \n",
    "    # Sex,Length,Diameter,Height,Whole weight,Shucked weight,Viscera weight,Shell weight\n",
    "    dataset = dataset[:,:-1] \n",
    "    #X_train, X_validation, Y_train, Y_validation = train_test_split(dataset, answer, test_size=0.2)"
   ]
  },
  {
   "cell_type": "code",
   "execution_count": 103,
   "metadata": {},
   "outputs": [],
   "source": [
    "def init_model(learning_rate):\n",
    "    from tensorflow.keras.models import Model\n",
    "    from tensorflow.keras import losses, optimizers\n",
    "    from tensorflow.keras.layers import Input, Dense\n",
    "    global model\n",
    "    inputs = Input(shape=(input_cnt,))\n",
    "    #x = Dense(32)(inputs)\n",
    "    outputs = Dense(output_cnt, activation='sigmoid')(inputs)\n",
    "    model = Model(inputs=inputs, outputs=outputs)\n",
    "    model.compile(loss = 'mean_squared_error', optimizer = 'adam',\n",
    "                #loss = 'binary_crossentropy',\n",
    "                #loss=losses.mean_squared_error, \n",
    "                #optimizer = keras.optimizers.SGD(learning_rate=learning_rate), \n",
    "                  metrics = ['accuracy'])\n",
    "    #model.compile(loss='binary_crossentropy', optimizer='adam', metrics=['accuracy'])"
   ]
  },
  {
   "cell_type": "code",
   "execution_count": 104,
   "metadata": {},
   "outputs": [],
   "source": [
    "def train_and_test(epoch_count, mb_size):\n",
    "    model.fit(x = dataset, y = answer, batch_size = mb_size, epochs = epoch_count)\n",
    "    model.evaluate(x = dataset, y = answer, batch_size = mb_size)"
   ]
  },
  {
   "cell_type": "code",
   "execution_count": 105,
   "metadata": {},
   "outputs": [],
   "source": [
    "def abalone_exec(epoch_count = 10, mb_size=10, learning_rate = LEARNING_RATE):\n",
    "    load_abalone_dataset() # 자료 불러오기 \n",
    "    init_model(learning_rate) # 초기화 \n",
    "    train_and_test(epoch_count, mb_size) "
   ]
  },
  {
   "cell_type": "code",
   "execution_count": 106,
   "metadata": {},
   "outputs": [
    {
     "name": "stdout",
     "output_type": "stream",
     "text": [
      "Epoch 1/10\n",
      "4177/4177 [==============================] - 1s 246us/sample - loss: 92.8309 - acc: 2.3941e-04\n",
      "Epoch 2/10\n",
      "4177/4177 [==============================] - 1s 165us/sample - loss: 91.2327 - acc: 2.3941e-04\n",
      "Epoch 3/10\n",
      "4177/4177 [==============================] - 1s 167us/sample - loss: 90.7495 - acc: 2.3941e-04\n",
      "Epoch 4/10\n",
      "4177/4177 [==============================] - 1s 170us/sample - loss: 90.5406 - acc: 2.3941e-04\n",
      "Epoch 5/10\n",
      "4177/4177 [==============================] - 1s 170us/sample - loss: 90.4303 - acc: 2.3941e-04\n",
      "Epoch 6/10\n",
      "4177/4177 [==============================] - 1s 183us/sample - loss: 90.3646 - acc: 2.3941e-04\n",
      "Epoch 7/10\n",
      "4177/4177 [==============================] - 1s 179us/sample - loss: 90.3221 - acc: 2.3941e-04 - loss: 91.2238 - acc: 0.\n",
      "Epoch 8/10\n",
      "4177/4177 [==============================] - 1s 172us/sample - loss: 90.2932 - acc: 2.3941e-04\n",
      "Epoch 9/10\n",
      "4177/4177 [==============================] - 1s 176us/sample - loss: 90.2726 - acc: 2.3941e-04\n",
      "Epoch 10/10\n",
      "4177/4177 [==============================] - 1s 175us/sample - loss: 90.2575 - acc: 2.3941e-04\n",
      "4177/4177 [==============================] - 1s 188us/sample - loss: 90.2513 - acc: 2.3941e-04\n"
     ]
    }
   ],
   "source": [
    "abalone_exec()"
   ]
  },
  {
   "cell_type": "code",
   "execution_count": null,
   "metadata": {},
   "outputs": [],
   "source": []
  },
  {
   "cell_type": "code",
   "execution_count": null,
   "metadata": {},
   "outputs": [],
   "source": []
  },
  {
   "cell_type": "code",
   "execution_count": null,
   "metadata": {},
   "outputs": [],
   "source": []
  },
  {
   "cell_type": "code",
   "execution_count": null,
   "metadata": {},
   "outputs": [],
   "source": []
  }
 ],
 "metadata": {
  "kernelspec": {
   "display_name": "Python 3",
   "language": "python",
   "name": "python3"
  },
  "language_info": {
   "codemirror_mode": {
    "name": "ipython",
    "version": 3
   },
   "file_extension": ".py",
   "mimetype": "text/x-python",
   "name": "python",
   "nbconvert_exporter": "python",
   "pygments_lexer": "ipython3",
   "version": "3.7.3"
  }
 },
 "nbformat": 4,
 "nbformat_minor": 4
}
