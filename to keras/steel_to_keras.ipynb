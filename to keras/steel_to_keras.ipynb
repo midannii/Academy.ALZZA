{
 "cells": [
  {
   "cell_type": "code",
   "execution_count": 1,
   "metadata": {},
   "outputs": [],
   "source": [
    "import tensorflow as tf\n",
    "from tensorflow import keras\n",
    "import numpy as np\n",
    "import pandas as pd"
   ]
  },
  {
   "cell_type": "code",
   "execution_count": 39,
   "metadata": {},
   "outputs": [],
   "source": [
    "RND_MEAN = 0\n",
    "RND_STD = 0.0030\n",
    "LEARNING_RATE = 0.001"
   ]
  },
  {
   "cell_type": "code",
   "execution_count": 34,
   "metadata": {},
   "outputs": [],
   "source": [
    "def load_steel_dataset():\n",
    "    global dataset, answer, input_cnt, output_cnt\n",
    "    input_cnt, output_cnt = 27,7\n",
    "    dataset = pd.read_csv('faults.csv')\n",
    "    answer = np.asarray(dataset)[:,-7:]\n",
    "    dataset = np.asarray(dataset)[:,:-7]"
   ]
  },
  {
   "cell_type": "code",
   "execution_count": 50,
   "metadata": {},
   "outputs": [],
   "source": [
    "def init_model(learning_rate):\n",
    "    from tensorflow.keras.models import Model\n",
    "    from tensorflow.keras import losses, optimizers\n",
    "    from tensorflow.keras.layers import Input, Dense\n",
    "    global model\n",
    "    inputs = Input(shape=(input_cnt,))\n",
    "    outputs = Dense(output_cnt, activation='softmax')(inputs)\n",
    "    model = Model(inputs=inputs, outputs=outputs)\n",
    "    model.compile(optimizer=optimizers.SGD(lr=learning_rate),\n",
    "               loss='categorical_crossentropy', metrics=[\"accuracy\"])"
   ]
  },
  {
   "cell_type": "code",
   "execution_count": 51,
   "metadata": {},
   "outputs": [],
   "source": [
    "def train_and_test(epoch_count, mb_size):\n",
    "    model.fit(x = dataset, y = answer, batch_size = mb_size, epochs = epoch_count)\n",
    "    model.evaluate(x = dataset, y = answer, batch_size = mb_size)"
   ]
  },
  {
   "cell_type": "code",
   "execution_count": 52,
   "metadata": {},
   "outputs": [],
   "source": [
    "def steel_exec(epoch_count = 10, mb_size=10, learning_rate = LEARNING_RATE):\n",
    "    load_steel_dataset() # 자료 불러오기 \n",
    "    init_model(learning_rate) # 초기화 \n",
    "    train_and_test(epoch_count, mb_size) "
   ]
  },
  {
   "cell_type": "code",
   "execution_count": 53,
   "metadata": {},
   "outputs": [
    {
     "name": "stdout",
     "output_type": "stream",
     "text": [
      "Epoch 1/10\n",
      "1941/1941 [==============================] - 1s 355us/sample - loss: 2287605908.7977 - acc: 0.3004\n",
      "Epoch 2/10\n",
      "1941/1941 [==============================] - 0s 169us/sample - loss: 2173361925.4075 - acc: 0.3210\n",
      "Epoch 3/10\n",
      "1941/1941 [==============================] - 0s 174us/sample - loss: 2168854615.9052 - acc: 0.3199\n",
      "Epoch 4/10\n",
      "1941/1941 [==============================] - 0s 150us/sample - loss: 2024333130.2875 - acc: 0.3375\n",
      "Epoch 5/10\n",
      "1941/1941 [==============================] - 0s 153us/sample - loss: 2432086367.3900 - acc: 0.3153\n",
      "Epoch 6/10\n",
      "1941/1941 [==============================] - 0s 155us/sample - loss: 2336876834.3143 - acc: 0.3338\n",
      "Epoch 7/10\n",
      "1941/1941 [==============================] - 0s 150us/sample - loss: 2054921298.5307 - acc: 0.3385\n",
      "Epoch 8/10\n",
      "1941/1941 [==============================] - 0s 157us/sample - loss: 2078127462.5698 - acc: 0.3215\n",
      "Epoch 9/10\n",
      "1941/1941 [==============================] - 0s 152us/sample - loss: 2117338473.4302 - acc: 0.3272\n",
      "Epoch 10/10\n",
      "1941/1941 [==============================] - 1s 272us/sample - loss: 2133686528.6677 - acc: 0.3272\n",
      "1941/1941 [==============================] - 0s 182us/sample - loss: 1827013073.7403 - acc: 0.1978\n"
     ]
    }
   ],
   "source": [
    "steel_exec()"
   ]
  },
  {
   "cell_type": "code",
   "execution_count": null,
   "metadata": {},
   "outputs": [],
   "source": []
  }
 ],
 "metadata": {
  "kernelspec": {
   "display_name": "Python 3",
   "language": "python",
   "name": "python3"
  },
  "language_info": {
   "codemirror_mode": {
    "name": "ipython",
    "version": 3
   },
   "file_extension": ".py",
   "mimetype": "text/x-python",
   "name": "python",
   "nbconvert_exporter": "python",
   "pygments_lexer": "ipython3",
   "version": "3.7.3"
  }
 },
 "nbformat": 4,
 "nbformat_minor": 4
}
