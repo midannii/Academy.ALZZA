{
 "cells": [
  {
   "cell_type": "markdown",
   "metadata": {},
   "source": [
    "# 20200106\n",
    "## abalone.ipynb 실행 "
   ]
  },
  {
   "cell_type": "code",
   "execution_count": 29,
   "metadata": {},
   "outputs": [],
   "source": [
    "%run abalone.ipynb"
   ]
  },
  {
   "cell_type": "code",
   "execution_count": 30,
   "metadata": {},
   "outputs": [
    {
     "name": "stdout",
     "output_type": "stream",
     "text": [
      "Epoch 1: loss = 33.875, accuracy0.557/0.812\n",
      "Epoch 2: loss = 8.226, accuracy0.820/0.814\n",
      "Epoch 3: loss = 7.582, accuracy0.812/0.809\n",
      "Epoch 4: loss = 7.475, accuracy0.808/0.811\n",
      "Epoch 5: loss = 7.395, accuracy0.810/0.809\n",
      "Epoch 6: loss = 7.328, accuracy0.808/0.810\n",
      "Epoch 7: loss = 7.269, accuracy0.808/0.811\n",
      "Epoch 8: loss = 7.217, accuracy0.808/0.812\n",
      "Epoch 9: loss = 7.175, accuracy0.810/0.810\n",
      "Epoch 10: loss = 7.135, accuracy0.809/0.810\n",
      "\n",
      " Final Test: final accuracy = 0.810\n"
     ]
    }
   ],
   "source": [
    "abalone_exec()"
   ]
  },
  {
   "cell_type": "code",
   "execution_count": 31,
   "metadata": {},
   "outputs": [
    {
     "name": "stdout",
     "output_type": "stream",
     "text": [
      "[[1.02697603]\n",
      " [1.47450981]\n",
      " [1.66960135]\n",
      " [2.04468668]\n",
      " [1.62513525]\n",
      " [0.60292627]\n",
      " [2.39993815]\n",
      " [0.54107313]\n",
      " [0.46878034]\n",
      " [1.01969382]]\n",
      "[4.16894769]\n"
     ]
    }
   ],
   "source": [
    "print(weight)\n",
    "print(bias)"
   ]
  },
  {
   "cell_type": "code",
   "execution_count": 32,
   "metadata": {},
   "outputs": [
    {
     "name": "stdout",
     "output_type": "stream",
     "text": [
      "Epoch 20: loss = 5.804, accuracy0.825/0.831\n",
      "Epoch 40: loss = 5.259, accuracy0.834/0.828\n",
      "Epoch 60: loss = 5.056, accuracy0.837/0.838\n",
      "Epoch 80: loss = 4.950, accuracy0.838/0.840\n",
      "Epoch 100: loss = 4.910, accuracy0.840/0.826\n",
      "\n",
      " Final Test: final accuracy = 0.826\n"
     ]
    }
   ],
   "source": [
    "LEARNING_RATE = 0.1\n",
    "abalone_exec(epoch_count=100, mb_size=100, report=20)"
   ]
  },
  {
   "cell_type": "code",
   "execution_count": null,
   "metadata": {},
   "outputs": [],
   "source": []
  },
  {
   "cell_type": "code",
   "execution_count": null,
   "metadata": {},
   "outputs": [],
   "source": []
  },
  {
   "cell_type": "code",
   "execution_count": null,
   "metadata": {},
   "outputs": [],
   "source": []
  }
 ],
 "metadata": {
  "kernelspec": {
   "display_name": "Python 3",
   "language": "python",
   "name": "python3"
  },
  "language_info": {
   "codemirror_mode": {
    "name": "ipython",
    "version": 3
   },
   "file_extension": ".py",
   "mimetype": "text/x-python",
   "name": "python",
   "nbconvert_exporter": "python",
   "pygments_lexer": "ipython3",
   "version": "3.7.4"
  }
 },
 "nbformat": 4,
 "nbformat_minor": 4
}
