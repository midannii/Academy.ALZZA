{
 "cells": [
  {
   "cell_type": "code",
   "execution_count": 5,
   "metadata": {},
   "outputs": [],
   "source": [
    "%run mathutil.ipynb"
   ]
  },
  {
   "cell_type": "code",
   "execution_count": 6,
   "metadata": {},
   "outputs": [],
   "source": [
    "np.random.seed(1234) # 난수 고정\n",
    "def randomize(): np.random.seed(time.timme()) \n",
    "    # randomize() 로 난수를 초기화하지 않는 이상 같은 결과를 냄"
   ]
  },
  {
   "cell_type": "code",
   "execution_count": 7,
   "metadata": {},
   "outputs": [],
   "source": [
    "class Model(object): # object class 를 기반 class로 함 \n",
    "    # 객체 초기화 \n",
    "    def __init__(self, name, dataset):\n",
    "        self.name = name\n",
    "        self.dataset = dataset\n",
    "        self.is_training = False\n",
    "        if not hasattr(self, 'rand_std'): self.rand_std = 0.30 \n",
    "            # parameter 초기화에 rand_std 필요\n",
    "    # 출력문으로 객체를 출력할때의 출력 문자열 생성 방법 정의\n",
    "    def __str__(self):\n",
    "        return '{}/{}'.format(self.name, self.dataset)\n",
    "    # 전체 과정을 실행시키는 메인 함수 \n",
    "    def exec_all(self, epoch_count=10, batch_size=10, learning_rate=0.001, report=0, show_cnt = 3):\n",
    "        # hyper parameter 들을 필요한 각 method 에 전달 \n",
    "        self.train(epoch_count, batch_size, learning_rate, report)\n",
    "        self.test()\n",
    "        if show_cnt > 0: self.visualize(show_cnt)"
   ]
  },
  {
   "cell_type": "code",
   "execution_count": 8,
   "metadata": {},
   "outputs": [],
   "source": [
    "class MlpModel(Model): # Model의 파생 class \n",
    "    def __init__(self, name, dataset, hconfigs):\n",
    "        super(MlpModel, self).__init__(name, dataset)\n",
    "            # super를 이용해 Model class를 찾아 그 객체 초기화 함수 호출; name, dataset 값 저장 \n",
    "        self.init_parameters(hconfigs) # CNN 이 이용할 parameter 준비 "
   ]
  },
  {
   "cell_type": "code",
   "execution_count": 9,
   "metadata": {},
   "outputs": [],
   "source": [
    "def mlp_init_parameters(self, hconfigs): # 기존 init_model() 이랑 거의 같음 \n",
    "    self.hconfigs = hconfigs\n",
    "    self.pm_hiddens = []\n",
    "\n",
    "    prev_shape = self.dataset.input_shape \n",
    "\n",
    "    for hconfig in hconfigs:\n",
    "        pm_hidden, prev_shape = self.alloc_layer_param(prev_shape, hconfig)\n",
    "        self.pm_hiddens.append(pm_hidden)\n",
    "\n",
    "    output_cnt = int(np.prod(self.dataset.output_shape)) # parameter 생성에 반영되는 vector 크기\n",
    "    self.pm_output, _ = self.alloc_layer_param(prev_shape, output_cnt) # 입출력 vector 크기를 dataset 객체의 속성값에서 받음 \n",
    "        \n",
    "def mlp_alloc_layer_param(self, input_shape, hconfig):\n",
    "    input_cnt = np.prod(input_shape)\n",
    "    output_cnt = hconfig\n",
    "    weight, bias = self.alloc_param_pair([input_cnt, output_cnt])\n",
    "\n",
    "    return {'w':weight, 'b':bias}, output_cnt\n",
    "\n",
    "def mlp_alloc_param_pair(self, shape):\n",
    "    weight = np.random.normal(0, self.rand_std, shape)\n",
    "    bias = np.zeros([shape[-1]])\n",
    "    return weight, bias\n",
    "\n",
    "# function을 MlpModel의 method로 등록하기 \n",
    "MlpModel.init_parameters = mlp_init_parameters \n",
    "# init_parameter 는 layer 하나의 parameter를 생성할때마다 alloc_layer_param()을 부름\n",
    "MlpModel.alloc_layer_param = mlp_alloc_layer_param\n",
    "# alloc_layer_param 은 alloc_param_pair 를 부름\n",
    "MlpModel.alloc_param_pair = mlp_alloc_param_pair"
   ]
  },
  {
   "cell_type": "code",
   "execution_count": 10,
   "metadata": {},
   "outputs": [],
   "source": [
    "def mlp_model_train(self, epoch_count=10, batch_size=10, \\\n",
    "                    learning_rate=0.001, report=0):\n",
    "    # Model.exec_all() 이 학습을 실행할 때 호출 \n",
    "    self.learning_rate = learning_rate\n",
    "    \n",
    "    batch_count = int(self.dataset.train_count / batch_size)\n",
    "    time1 = time2 = int(time.time())\n",
    "    if report != 0:\n",
    "        print('Model {} train started:'.format(self.name))\n",
    "\n",
    "    for epoch in range(epoch_count):\n",
    "        costs = []\n",
    "        accs = []\n",
    "        self.dataset.shuffle_train_data(batch_size*batch_count) # data shuffle \n",
    "        for n in range(batch_count):\n",
    "            trX, trY = self.dataset.get_train_data(batch_size, n)\n",
    "            cost, acc = self.train_step(trX, trY)\n",
    "            costs.append(cost)\n",
    "            accs.append(acc)\n",
    "\n",
    "        if report > 0 and (epoch+1) % report == 0:\n",
    "            vaX, vaY = self.dataset.get_validate_data(100)\n",
    "                # 그때그때 새로 받아오는 제한된 수의 validation data 이용 \n",
    "            acc = self.eval_accuracy(vaX, vaY)\n",
    "            time3 = int(time.time())\n",
    "            tm1, tm2 = time3-time2, time3-time1\n",
    "            self.dataset.train_prt_result(epoch+1, costs, accs, acc, tm1, tm2) # validation 단계 출력 \n",
    "            time2 = time3\n",
    "\n",
    "    tm_total = int(time.time()) - time1\n",
    "    print('Model {} train ended in {} secs:'.format(self.name, tm_total))\n",
    "    \n",
    "MlpModel.train = mlp_model_train"
   ]
  },
  {
   "cell_type": "code",
   "execution_count": 11,
   "metadata": {},
   "outputs": [],
   "source": [
    "def mlp_model_test(self):\n",
    "    teX, teY = self.dataset.get_test_data()\n",
    "    time1 = int(time.time())\n",
    "    acc = self.eval_accuracy(teX, teY)\n",
    "    time2 = int(time.time())\n",
    "    self.dataset.test_prt_result(self.name, acc, time2-time1) # 구체적인 출력 \n",
    "\n",
    "MlpModel.test = mlp_model_test"
   ]
  },
  {
   "cell_type": "code",
   "execution_count": 12,
   "metadata": {},
   "outputs": [],
   "source": [
    "def mlp_model_visualize(self, num):\n",
    "    print('Model {} Visualization'.format(self.name))\n",
    "    deX, deY = self.dataset.get_visualize_data(num) # dataset으로부터 시각화용 데이터 얻어오기 \n",
    "    est = self.get_estimate(deX) # 신경망 추정 정보 얻기\n",
    "    self.dataset.visualize(deX, est, deY) # 시각화 출력 생성 \n",
    "\n",
    "MlpModel.visualize = mlp_model_visualize"
   ]
  },
  {
   "cell_type": "code",
   "execution_count": 13,
   "metadata": {},
   "outputs": [],
   "source": [
    "def mlp_train_step(self, x, y): # 기존의 run_train() 함수 \n",
    "    self.is_training = True # is_training 의 plug\n",
    "    \n",
    "    output, aux_nn = self.forward_neuralnet(x)\n",
    "    loss, aux_pp = self.forward_postproc(output, y)\n",
    "    accuracy = self.eval_accuracy(x, y, output)\n",
    "    \n",
    "    G_loss = 1.0\n",
    "    G_output = self.backprop_postproc(G_loss, aux_pp)\n",
    "    self.backprop_neuralnet(G_output, aux_nn)\n",
    "\n",
    "    self.is_training = False # is_training 의 plug\n",
    "        # validation은 is_training의 plug가 꺼진 상태에서 수행되어야 함 \n",
    "    return loss, accuracy\n",
    "\n",
    "MlpModel.train_step = mlp_train_step"
   ]
  },
  {
   "cell_type": "code",
   "execution_count": 14,
   "metadata": {},
   "outputs": [],
   "source": [
    "def mlp_forward_neuralnet(self, x): # training, test, visualize 에서 이용 \n",
    "    hidden = x\n",
    "    aux_layers = []\n",
    "    for n, hconfig in enumerate(self.hconfigs): # hconfigs; from MlpModel.init_parameters()\n",
    "        hidden, aux = self.forward_layer(hidden, hconfig, self.pm_hiddens[n])\n",
    "        aux_layers.append(aux)\n",
    "    output, aux_out = self.forward_layer(hidden, None, self.pm_output)\n",
    "        # hconfig 대신 None 전달; output layer 임을 표현 \n",
    "    return output, [aux_out, aux_layers]\n",
    "\n",
    "def mlp_backprop_neuralnet(self, G_output, aux):\n",
    "    aux_out, aux_layers = aux # forward 에서의 전달을 그대로 받음 \n",
    "    G_hidden = self.backprop_layer(G_output, None, self.pm_output, aux_out)\n",
    "    \n",
    "    for n in reversed(range(len(self.hconfigs))):\n",
    "        hconfig, pm, aux = self.hconfigs[n], self.pm_hiddens[n], aux_layers[n]\n",
    "        G_hidden = self.backprop_layer(G_hidden, hconfig, pm, aux)\n",
    "    return G_hidden\n",
    "\n",
    "MlpModel.forward_neuralnet = mlp_forward_neuralnet\n",
    "MlpModel.backprop_neuralnet = mlp_backprop_neuralnet"
   ]
  },
  {
   "cell_type": "code",
   "execution_count": 19,
   "metadata": {},
   "outputs": [],
   "source": [
    "def mlp_forward_layer(self, x, hconfig, pm):\n",
    "    y = np.matmul(x, pm['w']) + pm['b'] # 선형 연산\n",
    "    if hconfig is not None: y = relu(y) # 비선형 활성화 함수\n",
    "    return y, [x,y]\n",
    "\n",
    "def mlp_backprop_layer(self, G_y, hconfig, pm, aux):\n",
    "    x, y = aux\n",
    "    \n",
    "    if hconfig is not None: G_y = relu_derv(y) * G_y # 비선형 활성화 함수 \n",
    "    \n",
    "    # 선형 연산의 backprop_\n",
    "    g_y_weight = x.transpose()\n",
    "    g_y_input = pm['w'].transpose()\n",
    "    G_weight = np.matmul(g_y_weight, G_y)\n",
    "    G_bias = np.sum(G_y, axis=0)\n",
    "    G_input = np.matmul(G_y, g_y_input)\n",
    "    pm['w'] -= self.learning_rate * G_weight\n",
    "    pm['b'] -= self.learning_rate * G_bias\n",
    "\n",
    "    return G_input\n",
    "\n",
    "MlpModel.forward_layer = mlp_forward_layer\n",
    "MlpModel.backprop_layer = mlp_backprop_layer"
   ]
  },
  {
   "cell_type": "code",
   "execution_count": 15,
   "metadata": {},
   "outputs": [],
   "source": [
    "def mlp_forward_postproc(self, output, y):\n",
    "    loss, aux_loss = self.dataset.forward_postproc(output, y)\n",
    "        # dataset.forward_postproc() 으로 손실 함숫값 계산 \n",
    "    extra, aux_extra = self.forward_extra_cost(y)\n",
    "        # loss_extra(추가적인 손실성분), aux_extra(역전파용 보조정보) 보고 \n",
    "    return loss + extra, [aux_loss, aux_extra]\n",
    "\n",
    "def mlp_forward_extra_cost(self, y):\n",
    "    return 0, None # 계산에 아무런 regularization 장치가 도입되지 않아, 계산에 반영될 추가 손실 성분 없음 \n",
    "\n",
    "MlpModel.forward_postproc = mlp_forward_postproc\n",
    "MlpModel.forward_extra_cost = mlp_forward_extra_cost"
   ]
  },
  {
   "cell_type": "code",
   "execution_count": 16,
   "metadata": {},
   "outputs": [],
   "source": [
    "def mlp_backprop_postproc(self, G_loss, aux): # forward_extra_cost() 와 짝을 이룸 ; \n",
    "    aux_loss, aux_extra = aux\n",
    "    self.backprop_extra_cost(G_loss, aux_extra) \n",
    "    G_output = self.dataset.backprop_postproc(G_loss, aux_loss)\n",
    "    return G_output\n",
    "\n",
    "def mlp_backprop_extra_cost(self, G_loss, aux):\n",
    "    pass # 지금 당장은 빈 함수로 정의 \n",
    "\n",
    "MlpModel.backprop_postproc = mlp_backprop_postproc\n",
    "MlpModel.backprop_extra_cost = mlp_backprop_extra_cost"
   ]
  },
  {
   "cell_type": "code",
   "execution_count": 17,
   "metadata": {},
   "outputs": [],
   "source": [
    "def mlp_eval_accuracy(self, x, y, output=None): # 정확도 계산 \n",
    "    if output is None:\n",
    "        output, _ = self.forward_neuralnet(x)\n",
    "    accuracy = self.dataset.eval_accuracy(x, y, output)\n",
    "    return accuracy\n",
    "\n",
    "MlpModel.eval_accuracy = mlp_eval_accuracy"
   ]
  },
  {
   "cell_type": "code",
   "execution_count": 18,
   "metadata": {},
   "outputs": [],
   "source": [
    "def mlp_get_estimate(self, x):\n",
    "    output, _ = self.forward_neuralnet(x)\n",
    "        # 값 지정이 누락된 경우 forward_neuralnet() 호출해 직접 순전파 처리 수행 \n",
    "    estimate = self.dataset.get_estimate(output)\n",
    "    return estimate\n",
    "\n",
    "MlpModel.get_estimate = mlp_get_estimate"
   ]
  },
  {
   "cell_type": "code",
   "execution_count": null,
   "metadata": {},
   "outputs": [],
   "source": []
  },
  {
   "cell_type": "code",
   "execution_count": null,
   "metadata": {},
   "outputs": [],
   "source": []
  },
  {
   "cell_type": "code",
   "execution_count": null,
   "metadata": {},
   "outputs": [],
   "source": []
  },
  {
   "cell_type": "code",
   "execution_count": null,
   "metadata": {},
   "outputs": [],
   "source": []
  }
 ],
 "metadata": {
  "kernelspec": {
   "display_name": "Python 3",
   "language": "python",
   "name": "python3"
  },
  "language_info": {
   "codemirror_mode": {
    "name": "ipython",
    "version": 3
   },
   "file_extension": ".py",
   "mimetype": "text/x-python",
   "name": "python",
   "nbconvert_exporter": "python",
   "pygments_lexer": "ipython3",
   "version": "3.7.4"
  }
 },
 "nbformat": 4,
 "nbformat_minor": 4
}
