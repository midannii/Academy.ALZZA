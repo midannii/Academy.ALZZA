{
 "cells": [
  {
   "cell_type": "markdown",
   "metadata": {},
   "source": [
    "- hidden layer 가 1개인 multi-perceptron을 지원하는 함수 (3)"
   ]
  },
  {
   "cell_type": "code",
   "execution_count": null,
   "metadata": {},
   "outputs": [],
   "source": [
    "# 1. 기존 output layer에 hidden layer 하나만 추가한 가장 간단한 multi-perceptron 지원\n",
    "# 2. 설정 정보값에 따라 hidden layer 수와 폭을 정하는 multi-perceptron 지원\n",
    "# 3. 설정 정보 존재 여부에 따라 두 경우 중 하나 선택"
   ]
  },
  {
   "cell_type": "markdown",
   "metadata": {},
   "source": [
    "mlp.ipynb"
   ]
  },
  {
   "cell_type": "code",
   "execution_count": null,
   "metadata": {},
   "outputs": [],
   "source": [
    "# hidden layer 가 하나인 multi-perceptron NN model의 parameter 를 생성 \n",
    "\n",
    "def init_model_hidden1():  # init_model 과 비슷하지만, \n",
    "    # 두 쌍의 parameter 를 pm_hidden, pm_output에 나눠 저장하고\n",
    "    # hidden_cnt를 global variable 로 받아 parameter의 크기를 지정 \n",
    "    global pm_output, pm_hidden, intput_cnt, output_cnt, hidden_cnt\n",
    "    pm_hidden = alloc_param_pair([input_cnt, hidden_cnt]) # hidden layer\n",
    "    pm_output = alloc_param_pair([hidden_cnt, output_cnt]) # output layer\n",
    "\n",
    "def alloc_param_pair(shape): # layer 를 위한 parameter 쌍을 생성 & 초기화 \n",
    "    weight = np.random.normal(RND_MEAN, RND_STD, shape) # weight 행렬 생성\n",
    "        # random.normal; shape의 크기를 갖는 무작위 표본 추출 \n",
    "        # shape; 나중에 높은 차원의 weight tensor 가 필요한 CNN 처리에 유용\n",
    "    bias = np.zeros(shape[-1]) # bias 벡터 생성 \n",
    "        # shape 이 2차원을 넘어서는 경우에 대비하여 shape[-1]\n",
    "    return {'w': weight, 'b': bias}"
   ]
  },
  {
   "cell_type": "code",
   "execution_count": null,
   "metadata": {},
   "outputs": [],
   "source": [
    "# hidden layer 가 하나인 multi-perceptron NN 의 순전파 처리\n",
    "\n",
    "def forward_neuralnet_hidden1(x):\n",
    "    global pm_output, pm_hidden # init_model_hidden 에서 만든 parameter 에 접근 \n",
    "    # hidden layer 의 output ; 비선형 activation function 인 relu 이용 \n",
    "    hidden = relu(np.matmul(x, pm_hidden['w']) + pm_hidden['b'])\n",
    "    # 최종 output \n",
    "    output = np.matmul(hidden, pm_output['w']) + pm_output['b']\n",
    "    return output, [x, hidden]\n",
    "\n",
    "def relu(x):\n",
    "    return np.maximum(x,0)"
   ]
  },
  {
   "cell_type": "code",
   "execution_count": null,
   "metadata": {},
   "outputs": [],
   "source": [
    "# hidden layer 가 하나인 multi-perceptron NN 의 역전파 처리\n",
    "\n",
    "def backprop_neuralnet_hidden1(G_output, aux):\n",
    "    global pm_output, pm_hidden\n",
    "    x, hidden = aux\n",
    "    \n",
    "    g_output_w_out = hidden.transpose()\n",
    "    G_w_out = np.matmul(g_output_w_out, G_output)\n",
    "    G_b_out = np.sum(G_output, axis=0)\n",
    "    # 서로가 서로의 계수가 됨\n",
    "    g_output_hidden = pm_output['w'].transpose()\n",
    "    G_hidden = np.matmul(G_output, g_output_hidden)\n",
    "    \n",
    "    pm_output['w'] -= LEARNING_RATE * G_w_out\n",
    "    pm_output['b'] -= LEARNING_RATE * G_b_out\n",
    "    \n",
    "    G_hidden = G_hidden * relu_derv(hidden) # relu() 에 대한 역전파 처리 \n",
    "    \n",
    "    g_hidden_w_hid = x.transpose()\n",
    "    G_w_hid = np.matmul(g_hidden_w_hid, G_hidden)\n",
    "    G_b_hid = np.sum(G_hidden, axis=0)\n",
    "    \n",
    "    pm_hidden['w'] -= LEARNING_RATE * G_w_hid\n",
    "    pm_hidden['b'] -= LEARNING_RATE * G_b_hid\n",
    "\n",
    "def relu_derv(y): # relu 의 편미분 계산 \n",
    "    return np.sign(y)"
   ]
  },
  {
   "cell_type": "markdown",
   "metadata": {},
   "source": [
    "- 임의의 hidden layer 를 갖는 multi-perceptron을 지원하는 함수 (3)"
   ]
  },
  {
   "cell_type": "code",
   "execution_count": null,
   "metadata": {},
   "outputs": [],
   "source": [
    "# 임의의 hidden layer수, 폭을 갖는 model의 paremeter 생성\n",
    "\n",
    "def init_model_hiddens():\n",
    "    global pm_output, pm_hiddens, input_cnt, output_cnt, hidden_config\n",
    "        # hidden_config; hidden layer 의 수, 폭 지정\n",
    "    pm_hiddens = [] # 생성된 parameter 쌍들 \n",
    "    # input vector size;  \n",
    "    prev_cnt = input_cnt # 첫번째 hidden layer일 경우 input_cnt,\n",
    "    for hidden_cnt in hidden_config: \n",
    "        pm_hiddens.append(alloc_param_pair([prev_cnt, hidden_cnt]))\n",
    "        prev_cnt = hidden_cnt # 아닐 경우 앞 hidden layer의 output vector 크기\n",
    "        \n",
    "    # layer 를 위한 parameter 쌍을 생성 & 초기화하는 alloc_param_pair\n",
    "    pm_output = alloc_param_pair([prev_cnt, output_cnt])   "
   ]
  },
  {
   "cell_type": "code",
   "execution_count": null,
   "metadata": {},
   "outputs": [],
   "source": [
    "# 가변적 multi-perceptron NN 의 순전파 처리 \n",
    "\n",
    "def forward_neuralnet_hiddens(x):\n",
    "    global pm_output, pm_hiddens\n",
    "    # 각 layer를 매개하는 hidden\n",
    "    hidden = x # 맨 처음 초기화 \n",
    "    # 역전파 용 보조 정보로 전달하는 hiddens\n",
    "    hiddens = [x]\n",
    "    \n",
    "    for pm_hidden in pm_hiddens:\n",
    "        # hidden layer의 input 이자 output으로 이용 \n",
    "        hidden = relu(np.matmul(hidden, pm_hidden['w']) + pm_hidden['b'])\n",
    "        hiddens.append(hidden)\n",
    "        \n",
    "    output = np.matmul(hidden, pm_output['w']) + pm_output['b']\n",
    "    \n",
    "    return output, hiddens"
   ]
  },
  {
   "cell_type": "code",
   "execution_count": null,
   "metadata": {},
   "outputs": [],
   "source": [
    "# 가변적 multi-pereptron NN 의 역전파 처리\n",
    "\n",
    "def backprop_neuralnet_hiddens(G_output, aux):\n",
    "    global pm_output, pm_hiddens\n",
    "    hiddens = aux\n",
    "    # output layer에 대한 역전파 처리 수행\n",
    "    g_output_w_out = hiddens[-1].transpose()\n",
    "    G_w_out = np.matmul(g_output_w_out, G_output)\n",
    "    G_b_out = np.sum(G_output, axis=0)\n",
    "    \n",
    "    g_output_hidden = pm_output['w'].transpose() \n",
    "    G_hidden = np.matmul(G_output, g_output_hidden)\n",
    "    # output layer에 대한 역전파 처리 수행\n",
    "    pm_output['w'] -= LEARNING_RATE * G_w_out\n",
    "    pm_output['b'] -= LEARNING_RATE * G_b_out\n",
    "    # hidden layer 수 만큼 역전파 처리\n",
    "    for n in reversed(range(len(pm_hiddens))):\n",
    "        G_hidden = G_hidden * relu_derv(hiddens[n+1])\n",
    "        g_hidden_w_hid = hiddens[n].transpose()\n",
    "        G_w_hid = np.matmul(g_hidden_w_hid, G_hidden)\n",
    "        G_b_hid = np.sum(G_hidden, axis=0)\n",
    "    \n",
    "        g_hidden_hidden = pm_hiddens[n]['w'].transpose()\n",
    "        G_hidden = np.matmul(G_hidden, g_hidden_hidden)\n",
    "        \n",
    "        pm_hiddens[n]['w'] -= LEARNING_RATE * G_w_hid\n",
    "        pm_hiddens[n]['b'] -= LEARNING_RATE * G_b_hid"
   ]
  },
  {
   "cell_type": "markdown",
   "metadata": {},
   "source": [
    "- hideen layer 구성 정보에 알맞은 함수를 호출하는 함수 (3)\n",
    "    - init_model, forward_neuralnet, backprop_neuralnet 재정의 "
   ]
  },
  {
   "cell_type": "code",
   "execution_count": null,
   "metadata": {},
   "outputs": [],
   "source": [
    "# 설정 정보의 존재여부에 따라 앞서 정의된 두 묶음의 함수를 선택적으로 호출\n",
    "\n",
    "global hidden_config\n",
    "\n",
    "def init_model():\n",
    "    if hidden_config is not None:\n",
    "        print('은닉 계층 {}개를 갖는 다층 퍼셉트론이 작동되었습니다.'. \\\n",
    "              format(len(hidden_config)))\n",
    "        init_model_hiddens()\n",
    "    else:\n",
    "        print('은닉 계층 하나를 갖는 다층 퍼셉트론이 작동되었습니다.')\n",
    "        init_model_hidden1()\n",
    "    \n",
    "def forward_neuralnet(x):\n",
    "    if hidden_config is not None:\n",
    "        return forward_neuralnet_hiddens(x)\n",
    "    else:\n",
    "        return forward_neuralnet_hidden1(x)\n",
    "    \n",
    "def backprop_neuralnet(G_output, hiddens):\n",
    "    if hidden_config is not None:\n",
    "        backprop_neuralnet_hiddens(G_output, hiddens)\n",
    "    else:\n",
    "        backprop_neuralnet_hidden1(G_output, hiddens)"
   ]
  },
  {
   "cell_type": "code",
   "execution_count": null,
   "metadata": {},
   "outputs": [],
   "source": [
    "# hidden layer 의 구조 지정\n",
    "\n",
    "def set_hidden(info):\n",
    "    global hidden_cnt, hidden_config\n",
    "     # info 가 정수인지에 따라 \n",
    "    if isinstance(info, int):\n",
    "        hidden_cnt = info\n",
    "        hidden_config = None\n",
    "    else:\n",
    "        hidden_config = info"
   ]
  },
  {
   "cell_type": "code",
   "execution_count": null,
   "metadata": {},
   "outputs": [],
   "source": []
  }
 ],
 "metadata": {
  "kernelspec": {
   "display_name": "Python 3",
   "language": "python",
   "name": "python3"
  },
  "language_info": {
   "codemirror_mode": {
    "name": "ipython",
    "version": 3
   },
   "file_extension": ".py",
   "mimetype": "text/x-python",
   "name": "python",
   "nbconvert_exporter": "python",
   "pygments_lexer": "ipython3",
   "version": "3.7.4"
  }
 },
 "nbformat": 4,
 "nbformat_minor": 4
}
