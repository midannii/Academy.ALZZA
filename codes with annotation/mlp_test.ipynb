{
 "cells": [
  {
   "cell_type": "markdown",
   "metadata": {},
   "source": [
    "전복 고리 수 추정 문제"
   ]
  },
  {
   "cell_type": "code",
   "execution_count": 9,
   "metadata": {
    "collapsed": true,
    "jupyter": {
     "outputs_hidden": true
    }
   },
   "outputs": [
    {
     "name": "stdout",
     "output_type": "stream",
     "text": [
      "은닉 계층 0개를 갖는 다층 퍼셉트론이 작동되었습니다.\n",
      "Epoch 1: loss = 33.875, accuracy0.557/0.812\n",
      "Epoch 2: loss = 8.226, accuracy0.820/0.814\n",
      "Epoch 3: loss = 7.582, accuracy0.812/0.809\n",
      "Epoch 4: loss = 7.475, accuracy0.808/0.811\n",
      "Epoch 5: loss = 7.395, accuracy0.810/0.809\n",
      "Epoch 6: loss = 7.328, accuracy0.808/0.810\n",
      "Epoch 7: loss = 7.269, accuracy0.808/0.811\n",
      "Epoch 8: loss = 7.217, accuracy0.808/0.812\n",
      "Epoch 9: loss = 7.175, accuracy0.810/0.810\n",
      "Epoch 10: loss = 7.135, accuracy0.809/0.810\n",
      "\n",
      " Final Test: final accuracy = 0.810\n"
     ]
    }
   ],
   "source": [
    "%run abalone.ipynb\n",
    "%run mlp.ipynb\n",
    "set_hidden([])\n",
    "abalone_exec()"
   ]
  },
  {
   "cell_type": "code",
   "execution_count": 10,
   "metadata": {
    "collapsed": true,
    "jupyter": {
     "outputs_hidden": true
    }
   },
   "outputs": [
    {
     "name": "stdout",
     "output_type": "stream",
     "text": [
      "은닉 계층 하나를 갖는 다층 퍼셉트론이 작동되었습니다.\n",
      "Epoch 10: loss = 6.849, accuracy0.806/0.803\n",
      "Epoch 20: loss = 6.294, accuracy0.815/0.812\n",
      "Epoch 30: loss = 5.572, accuracy0.827/0.840\n",
      "Epoch 40: loss = 5.105, accuracy0.835/0.842\n",
      "Epoch 50: loss = 4.955, accuracy0.838/0.837\n",
      "\n",
      " Final Test: final accuracy = 0.837\n"
     ]
    }
   ],
   "source": [
    "set_hidden(4)\n",
    "abalone_exec(epoch_count=50, report=10)"
   ]
  },
  {
   "cell_type": "code",
   "execution_count": 11,
   "metadata": {
    "collapsed": true,
    "jupyter": {
     "outputs_hidden": true
    }
   },
   "outputs": [
    {
     "name": "stdout",
     "output_type": "stream",
     "text": [
      "은닉 계층 하나를 갖는 다층 퍼셉트론이 작동되었습니다.\n",
      "Epoch 10: loss = 6.757, accuracy0.808/0.813\n",
      "Epoch 20: loss = 6.255, accuracy0.817/0.817\n",
      "Epoch 30: loss = 5.554, accuracy0.829/0.819\n",
      "Epoch 40: loss = 5.093, accuracy0.837/0.845\n",
      "Epoch 50: loss = 4.948, accuracy0.840/0.827\n",
      "\n",
      " Final Test: final accuracy = 0.827\n"
     ]
    }
   ],
   "source": [
    "abalone_exec(epoch_count=50, report=10)"
   ]
  },
  {
   "cell_type": "markdown",
   "metadata": {},
   "source": [
    "- 두 abalone_exec() 의 결과가 다른 이유; 그때그때 parameter 초기화와 학습용 mini-batch data 선정에 rand 함수 작용하기 때문"
   ]
  },
  {
   "cell_type": "markdown",
   "metadata": {},
   "source": [
    "천체의 펄서 여부 판정 문제"
   ]
  },
  {
   "cell_type": "code",
   "execution_count": 12,
   "metadata": {
    "collapsed": true,
    "jupyter": {
     "outputs_hidden": true
    }
   },
   "outputs": [
    {
     "name": "stdout",
     "output_type": "stream",
     "text": [
      "은닉 계층 하나를 갖는 다층 퍼셉트론이 작동되었습니다.\n",
      "Epoch 10: loss = 0.738, accuracy0.972/0.972\n",
      "Epoch 20: loss = 0.737, accuracy0.973/0.974\n",
      "Epoch 30: loss = 0.736, accuracy0.973/0.974\n",
      "Epoch 40: loss = 0.736, accuracy0.974/0.974\n",
      "Epoch 50: loss = 0.736, accuracy0.974/0.975\n",
      "\n",
      " Final Test: final accuracy = 0.975\n"
     ]
    }
   ],
   "source": [
    "%run pulsar.ipynb\n",
    "%run mlp.ipynb\n",
    "set_hidden(6)\n",
    "pulsar_exec(epoch_count=50, report=10)"
   ]
  },
  {
   "cell_type": "code",
   "execution_count": 13,
   "metadata": {
    "collapsed": true,
    "jupyter": {
     "outputs_hidden": true
    }
   },
   "outputs": [
    {
     "name": "stdout",
     "output_type": "stream",
     "text": [
      "은닉 계층 1개를 갖는 다층 퍼셉트론이 작동되었습니다.\n",
      "Epoch 10: loss = 0.735, accuracy0.973/0.969\n",
      "Epoch 20: loss = 0.734, accuracy0.974/0.969\n",
      "Epoch 30: loss = 0.735, accuracy0.975/0.973\n",
      "Epoch 40: loss = 0.733, accuracy0.976/0.972\n",
      "Epoch 50: loss = 0.733, accuracy0.976/0.972\n",
      "\n",
      " Final Test: final accuracy = 0.972\n"
     ]
    }
   ],
   "source": [
    "set_hidden([6])\n",
    "pulsar_exec(epoch_count=50, report=10)\n"
   ]
  },
  {
   "cell_type": "code",
   "execution_count": 14,
   "metadata": {
    "collapsed": true,
    "jupyter": {
     "outputs_hidden": true
    }
   },
   "outputs": [
    {
     "name": "stdout",
     "output_type": "stream",
     "text": [
      "은닉 계층 2개를 갖는 다층 퍼셉트론이 작동되었습니다.\n",
      "Epoch 40: loss = 0.735, accuracy0.973/0.972\n",
      "Epoch 80: loss = 0.734, accuracy0.975/0.974\n",
      "Epoch 120: loss = 0.733, accuracy0.976/0.971\n",
      "Epoch 160: loss = 0.733, accuracy0.976/0.972\n",
      "Epoch 200: loss = 0.733, accuracy0.976/0.973\n",
      "\n",
      " Final Test: final accuracy = 0.973\n"
     ]
    }
   ],
   "source": [
    "set_hidden([12,6])\n",
    "pulsar_exec(epoch_count=200, report=40)"
   ]
  },
  {
   "cell_type": "markdown",
   "metadata": {},
   "source": [
    "철판 재료의 불량 판별"
   ]
  },
  {
   "cell_type": "code",
   "execution_count": 17,
   "metadata": {
    "collapsed": true,
    "jupyter": {
     "outputs_hidden": true
    }
   },
   "outputs": [
    {
     "name": "stdout",
     "output_type": "stream",
     "text": [
      "/home/midan/study\n",
      "은닉 계층 하나를 갖는 다층 퍼셉트론이 작동되었습니다.\n",
      "Epoch 10: loss = 1.849, accuracy0.352/0.325\n",
      "Epoch 20: loss = 1.786, accuracy0.352/0.325\n",
      "Epoch 30: loss = 1.747, accuracy0.352/0.325\n",
      "Epoch 40: loss = 1.723, accuracy0.352/0.325\n",
      "Epoch 50: loss = 1.708, accuracy0.352/0.325\n",
      "\n",
      " Final Test: final accuracy = 0.325\n"
     ]
    }
   ],
   "source": [
    "%run steel.ipynb\n",
    "%run mlp.ipynb\n",
    "set_hidden(10)\n",
    "steel_exec(epoch_count=50, report=10)"
   ]
  },
  {
   "cell_type": "code",
   "execution_count": 18,
   "metadata": {
    "collapsed": true,
    "jupyter": {
     "outputs_hidden": true
    }
   },
   "outputs": [
    {
     "name": "stdout",
     "output_type": "stream",
     "text": [
      "은닉 계층 3개를 갖는 다층 퍼셉트론이 작동되었습니다.\n",
      "Epoch 10: loss = 1.855, accuracy0.346/0.350\n",
      "Epoch 20: loss = 1.795, accuracy0.346/0.350\n",
      "Epoch 30: loss = 1.758, accuracy0.346/0.350\n",
      "Epoch 40: loss = 1.735, accuracy0.346/0.350\n",
      "Epoch 50: loss = 1.721, accuracy0.346/0.350\n",
      "\n",
      " Final Test: final accuracy = 0.350\n"
     ]
    }
   ],
   "source": [
    "set_hidden([12, 6, 4])\n",
    "steel_exec(epoch_count=50, report=10)"
   ]
  },
  {
   "cell_type": "code",
   "execution_count": 19,
   "metadata": {
    "collapsed": true,
    "jupyter": {
     "outputs_hidden": true
    }
   },
   "outputs": [
    {
     "name": "stdout",
     "output_type": "stream",
     "text": [
      "은닉 계층 3개를 갖는 다층 퍼셉트론이 작동되었습니다.\n",
      "Epoch 10: loss = 1.738, accuracy0.257/0.182\n",
      "Epoch 20: loss = 1.618, accuracy0.315/0.468\n",
      "Epoch 30: loss = 1.604, accuracy0.390/0.389\n",
      "Epoch 40: loss = 1.594, accuracy0.422/0.471\n",
      "Epoch 50: loss = 1.584, accuracy0.444/0.471\n",
      "\n",
      " Final Test: final accuracy = 0.471\n"
     ]
    }
   ],
   "source": [
    "LEARNING_RATE=0.0001\n",
    "hidden_config = [12, 6, 4]\n",
    "steel_exec(epoch_count=50, report=10)"
   ]
  },
  {
   "cell_type": "code",
   "execution_count": null,
   "metadata": {},
   "outputs": [],
   "source": []
  }
 ],
 "metadata": {
  "kernelspec": {
   "display_name": "Python 3",
   "language": "python",
   "name": "python3"
  },
  "language_info": {
   "codemirror_mode": {
    "name": "ipython",
    "version": 3
   },
   "file_extension": ".py",
   "mimetype": "text/x-python",
   "name": "python",
   "nbconvert_exporter": "python",
   "pygments_lexer": "ipython3",
   "version": "3.7.4"
  }
 },
 "nbformat": 4,
 "nbformat_minor": 4
}
