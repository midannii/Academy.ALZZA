{
 "cells": [
  {
   "cell_type": "code",
   "execution_count": null,
   "metadata": {},
   "outputs": [],
   "source": [
    "%run cnn_basic_model.ipynb\n",
    "%run dataset_flowers.ipynb\n",
    "%run dataset_office31.ipynb"
   ]
  },
  {
   "cell_type": "code",
   "execution_count": null,
   "metadata": {},
   "outputs": [],
   "source": [
    "fd = FlowersDataset([96, 96], [96, 96, 3])\n",
    "od = Office31Dataset([96, 96], [96, 96, 3])"
   ]
  },
  {
   "cell_type": "code",
   "execution_count": null,
   "metadata": {},
   "outputs": [],
   "source": [
    "fm1 = CnnBasicModel('flowers_model_1', fd, [30, 10])\n",
    "fm1.exec_all(epoch_count = 10, report = 2)"
   ]
  },
  {
   "cell_type": "code",
   "execution_count": null,
   "metadata": {},
   "outputs": [],
   "source": [
    "fm2 = CnnBasicModel('flowers_model_2', fd, \n",
    "                    [['full', {'width':30}], \n",
    "                     ['full', {'width':10}]])\n",
    "fm2.use_adam = False\n",
    "fm2.exec_all(epoch_count = 10, report = 2)"
   ]
  },
  {
   "cell_type": "code",
   "execution_count": null,
   "metadata": {},
   "outputs": [],
   "source": [
    "fm3 = CnnBasicModel('flowers_model_3', fd, \n",
    "               [['conv', {'ksize':5, 'chn':6}], \n",
    "                ['max', {'stride':4}], \n",
    "                ['conv', {'ksize':3, 'chn':12}], \n",
    "                ['avg', {'stride':2}]], \n",
    "               True)\n",
    "fm3.exec_all(epoch_count = 10, report = 2)"
   ]
  },
  {
   "cell_type": "code",
   "execution_count": null,
   "metadata": {},
   "outputs": [],
   "source": [
    "fm4 = CnnBasicModel('flowers_model_4', fd, \n",
    "               [['conv', {'ksize':3, 'chn':6}], \n",
    "                ['max', {'stride':2}], \n",
    "                ['conv', {'ksize':3, 'chn':12}], \n",
    "                ['max', {'stride':2}], \n",
    "                ['conv', {'ksize':3, 'chn':24}], \n",
    "                ['avg', {'stride':3}]])\n",
    "fm4.exec_all(epoch_count = 10, report = 2)"
   ]
  },
  {
   "cell_type": "code",
   "execution_count": null,
   "metadata": {},
   "outputs": [],
   "source": [
    "om1 = CnnBasicModel('office31_model_1', od, \n",
    "               [['conv', {'ksize':3, 'chn':6}], \n",
    "                ['max', {'stride':2}], \n",
    "                ['conv', {'ksize':3, 'chn':12}], \n",
    "                ['max', {'stride':2}], \n",
    "                ['conv', {'ksize':3, 'chn':24}], \n",
    "                ['avg', {'stride':3}]])\n",
    "om1.exec_all(epoch_count = 10, report = 2)"
   ]
  },
  {
   "cell_type": "code",
   "execution_count": null,
   "metadata": {},
   "outputs": [],
   "source": [
    "om1.exec_all(epoch_count = 40, show_cnt = 0)"
   ]
  },
  {
   "cell_type": "code",
   "execution_count": null,
   "metadata": {},
   "outputs": [],
   "source": [
    "om2 = CnnBasicModel('office31_model_2', od, \n",
    "               [['conv', {'ksize':3, 'chn':6, 'actfunc':'sigmoid'}], \n",
    "                ['max', {'stride':2}], \n",
    "                ['conv', {'ksize':3, 'chn':12, 'actfunc':'sigmoid'}], \n",
    "                ['max', {'stride':2}], \n",
    "                ['conv', {'ksize':3, 'chn':24, 'actfunc':'sigmoid'}], \n",
    "                ['avg', {'stride':3}]])\n",
    "om2.exec_all(epoch_count = 10, report = 2)"
   ]
  },
  {
   "cell_type": "code",
   "execution_count": null,
   "metadata": {},
   "outputs": [],
   "source": [
    "om3 = CnnBasicModel('office31_model_3', od, \n",
    "               [['conv', {'ksize':3, 'chn':6, 'actfunc':'tanh'}], \n",
    "                ['max', {'stride':2}], \n",
    "                ['conv', {'ksize':3, 'chn':12, 'actfunc':'tanh'}], \n",
    "                ['max', {'stride':2}], \n",
    "                ['conv', {'ksize':3, 'chn':24, 'actfunc':'tanh'}], \n",
    "                ['avg', {'stride':3}]])\n",
    "om3.exec_all(epoch_count = 10, report = 2)"
   ]
  },
  {
   "cell_type": "code",
   "execution_count": null,
   "metadata": {},
   "outputs": [],
   "source": []
  },
  {
   "cell_type": "code",
   "execution_count": null,
   "metadata": {},
   "outputs": [],
   "source": []
  }
 ],
 "metadata": {
  "kernelspec": {
   "display_name": "Python 3",
   "language": "python",
   "name": "python3"
  },
  "language_info": {
   "codemirror_mode": {
    "name": "ipython",
    "version": 3
   },
   "file_extension": ".py",
   "mimetype": "text/x-python",
   "name": "python",
   "nbconvert_exporter": "python",
   "pygments_lexer": "ipython3",
   "version": "3.7.6"
  }
 },
 "nbformat": 4,
 "nbformat_minor": 4
}
