{
 "cells": [
  {
   "cell_type": "code",
   "execution_count": null,
   "metadata": {},
   "outputs": [],
   "source": [
    "%run cnn_reg_model.ipynb\n",
    "%run dataset_flowers.ipynb\n",
    "%run dataset_office31.ipynb"
   ]
  },
  {
   "cell_type": "code",
   "execution_count": null,
   "metadata": {},
   "outputs": [],
   "source": [
    "fd = FlowersDataset([96, 96], [96, 96, 3])\n",
    "od = Office31Dataset([96, 96], [96, 96, 3])"
   ]
  },
  {
   "cell_type": "code",
   "execution_count": null,
   "metadata": {},
   "outputs": [],
   "source": [
    "fm1 = CnnRegModel('flowers_model_1', fd, [30,10])\n",
    "fm1.exec_all(epoch_count=10, report=2, show_params=True)"
   ]
  },
  {
   "cell_type": "code",
   "execution_count": null,
   "metadata": {},
   "outputs": [],
   "source": [
    "fm2 = CnnRegModel('flowers_model_2', fd, [30,10], l2_decay=0.1)\n",
    "fm2.exec_all(epoch_count=10, show_cnt=0, show_params=True)"
   ]
  },
  {
   "cell_type": "code",
   "execution_count": null,
   "metadata": {},
   "outputs": [],
   "source": [
    "fm3 = CnnRegModel('flowers_model_3', fd, [30,10], l1_decay=0.01)\n",
    "fm3.exec_all(epoch_count=10, show_cnt=0, show_params=True)"
   ]
  },
  {
   "cell_type": "code",
   "execution_count": null,
   "metadata": {},
   "outputs": [],
   "source": [
    "cnn1 = [['conv',{'ksize':3, 'chn':6}],\n",
    "        ['max',{'stride':2}],\n",
    "        ['conv',{'ksize':3, 'chn':12}],\n",
    "        ['max',{'stride':2}],\n",
    "        ['conv',{'ksize':3, 'chn':24}],\n",
    "        ['avg',{'stride':3}]]\n",
    "fcnn1 = CnnRegModel('flowers_cnn_1', fd, cnn1)\n",
    "fcnn1.exec_all(epoch_count=10, report=2)"
   ]
  },
  {
   "cell_type": "code",
   "execution_count": null,
   "metadata": {},
   "outputs": [],
   "source": [
    "cnn2 = [['conv',{'ksize':3, 'chn':6}],\n",
    "        ['max',{'stride':2}],\n",
    "        ['dropout', {'keep_prob':0.6}],\n",
    "        ['conv',{'ksize':3, 'chn':12}],\n",
    "        ['max',{'stride':2}],\n",
    "        ['dropout', {'keep_prob':0.6}],\n",
    "        ['conv',{'ksize':3, 'chn':24}],\n",
    "        ['avg',{'stride':3}],\n",
    "        ['dropout', {'keep_prob':0.6}]]\n",
    "fcnn2 = CnnRegModel('flowers_cnn_2', fd, cnn2)\n",
    "fcnn2.exec_all(epoch_count=10, report=2, show_cnt=0)"
   ]
  },
  {
   "cell_type": "code",
   "execution_count": null,
   "metadata": {},
   "outputs": [],
   "source": [
    "noise_std = 0.01\n",
    "cnn3 = [['noise', {'type':'normal','mean':0,'std':noise_std}],\n",
    "        ['conv',{'ksize':3, 'chn':6}],\n",
    "        ['max',{'stride':2}],\n",
    "        ['noise', {'type':'normal','mean':0,'std':noise_std}],\n",
    "        ['conv',{'ksize':3, 'chn':12}],\n",
    "        ['max',{'stride':2}],\n",
    "        ['noise', {'type':'normal','mean':0,'std':noise_std}],\n",
    "        ['conv',{'ksize':3, 'chn':24}],\n",
    "        ['avg',{'stride':3}]]\n",
    "fcnn3 = CnnRegModel('flowers_cnn_3', fd, cnn3)\n",
    "fcnn3.exec_all(epoch_count=10, report=2, show_cnt=0)"
   ]
  },
  {
   "cell_type": "code",
   "execution_count": null,
   "metadata": {},
   "outputs": [],
   "source": [
    "cnn4 = [['batch_normal'],\n",
    "        ['conv',{'ksize':3, 'chn':6}],\n",
    "        ['max',{'stride':2}],\n",
    "        ['batch_normal'],\n",
    "        ['conv',{'ksize':3, 'chn':12}],\n",
    "        ['max',{'stride':2}],\n",
    "        ['batch_normal'],\n",
    "        ['conv',{'ksize':3, 'chn':24}],\n",
    "        ['avg',{'stride':3}]]\n",
    "fcnn4 = CnnRegModel('flowers_cnn_4', fd, cnn4)\n",
    "fcnn4.exec_all(epoch_count=10, report=2, show_cnt=0)"
   ]
  },
  {
   "cell_type": "code",
   "execution_count": null,
   "metadata": {},
   "outputs": [],
   "source": [
    "ocnn1 = CnnRegModel('office31_cnn_1', od, cnn1)\n",
    "ocnn2 = CnnRegModel('office31_cnn_2', od, cnn2)\n",
    "ocnn3 = CnnRegModel('office31_cnn_3', od, cnn3)\n",
    "ocnn4 = CnnRegModel('office31_cnn_4', od, cnn4)\n",
    "\n",
    "ocnn1.exec_all(epoch_count=10, show_cnt=0)\n",
    "ocnn2.exec_all(epoch_count=10, show_cnt=0)\n",
    "ocnn3.exec_all(epoch_count=10, show_cnt=0)\n",
    "ocnn4.exec_all(epoch_count=10, show_cnt=0)"
   ]
  },
  {
   "cell_type": "code",
   "execution_count": null,
   "metadata": {},
   "outputs": [],
   "source": []
  },
  {
   "cell_type": "code",
   "execution_count": null,
   "metadata": {},
   "outputs": [],
   "source": []
  },
  {
   "cell_type": "code",
   "execution_count": null,
   "metadata": {},
   "outputs": [],
   "source": []
  },
  {
   "cell_type": "code",
   "execution_count": null,
   "metadata": {},
   "outputs": [],
   "source": []
  }
 ],
 "metadata": {
  "kernelspec": {
   "display_name": "Python 3",
   "language": "python",
   "name": "python3"
  },
  "language_info": {
   "codemirror_mode": {
    "name": "ipython",
    "version": 3
   },
   "file_extension": ".py",
   "mimetype": "text/x-python",
   "name": "python",
   "nbconvert_exporter": "python",
   "pygments_lexer": "ipython3",
   "version": "3.7.6"
  }
 },
 "nbformat": 4,
 "nbformat_minor": 4
}
