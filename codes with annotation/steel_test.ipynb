{
 "cells": [
  {
   "cell_type": "code",
   "execution_count": 5,
   "metadata": {},
   "outputs": [
    {
     "name": "stdout",
     "output_type": "stream",
     "text": [
      "/home/midan/study\n"
     ]
    }
   ],
   "source": [
    "%run steel.ipynb"
   ]
  },
  {
   "cell_type": "code",
   "execution_count": 6,
   "metadata": {},
   "outputs": [
    {
     "name": "stdout",
     "output_type": "stream",
     "text": [
      "Epoch 1: loss = 15.984, accuracy0.306/0.320\n",
      "Epoch 2: loss = 15.509, accuracy0.326/0.197\n",
      "Epoch 3: loss = 15.984, accuracy0.306/0.348\n",
      "Epoch 4: loss = 15.004, accuracy0.348/0.197\n",
      "Epoch 5: loss = 15.286, accuracy0.336/0.202\n",
      "Epoch 6: loss = 15.390, accuracy0.332/0.440\n",
      "Epoch 7: loss = 15.509, accuracy0.326/0.442\n",
      "Epoch 8: loss = 15.628, accuracy0.321/0.455\n",
      "Epoch 9: loss = 15.360, accuracy0.333/0.322\n",
      "Epoch 10: loss = 15.316, accuracy0.335/0.455\n",
      "\n",
      " Final Test: final accuracy = 0.455\n"
     ]
    }
   ],
   "source": [
    "steel_exec()"
   ]
  },
  {
   "cell_type": "code",
   "execution_count": null,
   "metadata": {},
   "outputs": [],
   "source": []
  }
 ],
 "metadata": {
  "kernelspec": {
   "display_name": "Python 3",
   "language": "python",
   "name": "python3"
  },
  "language_info": {
   "codemirror_mode": {
    "name": "ipython",
    "version": 3
   },
   "file_extension": ".py",
   "mimetype": "text/x-python",
   "name": "python",
   "nbconvert_exporter": "python",
   "pygments_lexer": "ipython3",
   "version": "3.7.4"
  }
 },
 "nbformat": 4,
 "nbformat_minor": 4
}
